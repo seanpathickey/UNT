{
 "cells": [
  {
   "cell_type": "markdown",
   "metadata": {},
   "source": [
    "## Objective - Aggregate daily sensor files into one \"mega\" file for each sensor\n",
    "#### Loop through a folder of folders\n",
    "#### Concatenate multiple csv files together within a folder to create one file for each sensor\n",
    "#### Output \"mega\" file to a new location"
   ]
  },
  {
   "cell_type": "code",
   "execution_count": 3,
   "metadata": {},
   "outputs": [],
   "source": [
    "import pandas as pd\n",
    "import glob\n",
    "import os\n",
    "\n",
    "my_dir = r'C:\\Users\\sph0088\\OneDrive - UNT System\\AQ\\Calibration_Sensors\\Collocation_Data\\PA-II-SD\\Raw\\08-05-20_8'\n",
    "\n",
    "sub_dir_list = []\n",
    "\n",
    "for dirs, sub_dirs, files in os.walk(my_dir): #Supplies all dirs, sub_dirs, and files in my_dir\n",
    "    for sub_dir in sub_dirs: #Gives each folder name (i.e. sub_dir) in the directory\n",
    "        for sub_dir_path in glob.glob(os.path.join(my_dir, sub_dir)): #Creates a path for each sub_dir in the directory\n",
    "            sub_dir_list.append(sub_dir_path) #Appends each sub_dir path to a list called sub_dir_list\n",
    "\n",
    "for i in sub_dir_list: #loops through each item in the sub_dir_list\n",
    "    sub_dir_path, sub_dir_file = os.path.split(i) #splits each sub_dir_path into everything before and after the last slash so that each df created\n",
    "                                                                                            #can have a unique filename specific to its sub_dir_file\n",
    "    sub_directory = os.listdir(i) #sets each path in sub_dir_list as its own directory\n",
    "    df_list = [] #create an empty list \n",
    "    for file in sub_directory: #loop through each file in each sub_directory\n",
    "        if file.endswith(\".csv\"): #if file is a csv\n",
    "            file_path = os.path.join(i, file) #create a path for csv file in the sub_directory\n",
    "            df = pd.read_csv(file_path, index_col=None, header=0) #use file path of csv to create data frame\n",
    "            df_list.append(df) #append all data frames in each sub directory into a list (there will be 1 df_list for each sub_directory)\n",
    "\n",
    "    frame = pd.concat(df_list, ignore_index=True) #concatenate all data frames in each df_list to make 1 df (there will be 1 df for each sub_directory)\n",
    "    #Convert df for sub_directory into a csv file - use dynamic formatting with sub_dir_file as name for each new csv file\n",
    "    frame.to_csv(r'C:\\Users\\sph0088\\OneDrive - UNT System\\AQ\\Calibration_Sensors\\Collocation_Data\\PA-II-SD\\Combined\\{}.csv'.format(sub_dir_file), index=False)\n",
    "        "
   ]
  }
 ],
 "metadata": {
  "kernelspec": {
   "display_name": "Python 3",
   "language": "python",
   "name": "python3"
  },
  "language_info": {
   "codemirror_mode": {
    "name": "ipython",
    "version": 3
   },
   "file_extension": ".py",
   "mimetype": "text/x-python",
   "name": "python",
   "nbconvert_exporter": "python",
   "pygments_lexer": "ipython3",
   "version": "3.8.8"
  }
 },
 "nbformat": 4,
 "nbformat_minor": 4
}
