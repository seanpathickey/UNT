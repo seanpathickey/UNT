{
 "cells": [
  {
   "cell_type": "code",
   "execution_count": 1,
   "metadata": {},
   "outputs": [],
   "source": [
    "import pandas as pd\n",
    "import numpy as np\n",
    "import scipy as sp\n",
    "import seaborn as sns\n",
    "import matplotlib.pyplot as plt\n",
    "\n",
    "from pandas.plotting import scatter_matrix\n",
    "import seaborn as sns\n",
    "\n",
    "#import sklearn to use linear regression algorithm to build model\n",
    "from sklearn.linear_model import LinearRegression\n",
    "\n",
    "#import sklearn to use decision tree regression algorithm to build model\n",
    "from sklearn.tree import DecisionTreeRegressor\n",
    "\n",
    "#Import Random Forest\n",
    "from sklearn.ensemble import RandomForestRegressor\n",
    "\n",
    "#Import Support Vector Machine\n",
    "from sklearn import svm\n",
    "\n",
    "#Import KNN\n",
    "from sklearn.neighbors import NearestNeighbors, KNeighborsRegressor\n",
    "\n",
    "#Import ANN\n",
    "from sklearn.neural_network import MLPRegressor\n",
    "\n",
    "#Import Gradient Boosting\n",
    "from sklearn.ensemble import GradientBoostingRegressor\n",
    "\n",
    "#Preprocessing\n",
    "from sklearn.preprocessing import MinMaxScaler\n",
    "from sklearn.preprocessing import StandardScaler\n",
    "\n",
    "#import sklearn to split dataset into train/test datasets\n",
    "from sklearn.model_selection import train_test_split\n",
    "\n",
    "#import sklearn to perform k-fold cross validation and evaluation of model\n",
    "from sklearn.model_selection import KFold\n",
    "from sklearn.model_selection import cross_val_score\n",
    "from sklearn.model_selection import cross_val_predict\n",
    "from sklearn.metrics import mean_squared_error\n",
    "\n",
    "from matplotlib.offsetbox import AnchoredText\n",
    "\n",
    "import pickle"
   ]
  },
  {
   "cell_type": "code",
   "execution_count": 2,
   "metadata": {},
   "outputs": [],
   "source": [
    "computer = 'sph0088'\n",
    "training = 'Set 1'\n",
    "\n",
    "file = r'C:\\Users\\{}\\OneDrive - UNT System\\AQ\\Calibration_Sensors\\Collocation_Data\\test_data\\sensor_tceq_new_set.csv'.format(computer)\n",
    "df = pd.read_csv(file)\n",
    "df = df[df['tceq_pm25']>=0]\n",
    "df = df[(df['pm2_5_atm_avg'] < df['pm10_0_atm_avg'])] #filter out abnormal values\n",
    "df = df[(df['pm1_0_atm_avg'] < (df['pm2_5_atm_avg']*2.5))] #filter out abnormal values\n",
    "df['p03_p05'] = df['p_0_3_um_avg'] / df['p_0_5_um_avg']\n",
    "df = df[(df['p03_p05'] < 3.75)] #filter out abnormal values"
   ]
  },
  {
   "cell_type": "code",
   "execution_count": 3,
   "metadata": {},
   "outputs": [],
   "source": [
    "model_type = 'MLR'\n",
    "\n",
    "model_formula = LinearRegression()"
   ]
  },
  {
   "cell_type": "code",
   "execution_count": 4,
   "metadata": {},
   "outputs": [],
   "source": [
    "p_size = 0.8\n",
    "threshold = 0.88\n",
    "figsize=(9,7)"
   ]
  },
  {
   "cell_type": "markdown",
   "metadata": {},
   "source": [
    "## Variable Importance On Best-Performing Model"
   ]
  },
  {
   "cell_type": "code",
   "execution_count": 5,
   "metadata": {},
   "outputs": [
    {
     "name": "stdout",
     "output_type": "stream",
     "text": [
      "Wall time: 3.99 ms\n"
     ]
    }
   ],
   "source": [
    "%%time\n",
    "%matplotlib inline\n",
    "import warnings\n",
    "warnings.filterwarnings(\"ignore\")\n",
    "\n",
    "#####################################################################################################\n",
    "\n",
    "df_dust_set1 = df[(df['p_10_0_um_avg'] > p_size) | (df['pm25_pm10'] < threshold)]\n",
    "df_nodust_set1 = df[~((df['p_10_0_um_avg'] > p_size) | (df['pm25_pm10'] < threshold))]\n",
    "\n",
    "################################### Slice Datasets ##########################################################\n",
    "#################################### Training Set ##############################################################\n",
    "\n",
    "x_set1 = df_dust_set1[['current_temp_f', 'current_humidity'\n",
    "               ,'p_0_3_um_avg', 'p_0_5_um_avg', 'p_1_0_um_avg'\n",
    "               , 'p_2_5_um_avg','p_5_0_um_avg', 'p_10_0_um_avg'\n",
    "                ,'pm2_5_atm_avg','pm1_0_atm_avg', 'pm10_0_atm_avg'\n",
    "                ,'pm1_pm25', 'pm25_pm10', 'pm1_pm10']]\n",
    "\n",
    "y_set1 = df_dust_set1['tceq_pm25']\n",
    "\n",
    "x_nd_set1 = df_nodust_set1[['current_temp_f', 'current_humidity'\n",
    "               ,'p_0_3_um_avg', 'p_0_5_um_avg', 'p_1_0_um_avg'\n",
    "               , 'p_2_5_um_avg','p_5_0_um_avg', 'p_10_0_um_avg'\n",
    "                ,'pm2_5_atm_avg','pm1_0_atm_avg', 'pm10_0_atm_avg'\n",
    "                ,'pm1_pm25', 'pm25_pm10', 'pm1_pm10']]\n",
    "\n",
    "y_nd_set1 = df_nodust_set1['tceq_pm25']\n",
    "\n",
    "############################### Train & Save Models #################################################\n"
   ]
  },
  {
   "cell_type": "markdown",
   "metadata": {},
   "source": [
    "Source: https://scikit-learn.org/stable/auto_examples/inspection/plot_linear_model_coefficient_interpretation.html"
   ]
  },
  {
   "cell_type": "code",
   "execution_count": 6,
   "metadata": {},
   "outputs": [],
   "source": [
    "trained_model_set1 = model_formula.fit(x_set1, y_set1)\n",
    "\n",
    "coefs_dust_set1 = pd.DataFrame(trained_model_set1.coef_, x_set1.columns)\n",
    "coefs_dust_set1.columns = ['Coefficients']\n",
    "coefs_dust_set1\n",
    "\n",
    "x_std_set1 = x_set1.std()\n",
    "x_std_set1 = pd.DataFrame(x_std_set1)\n",
    "x_std_set1.columns = ['Coefficients']\n",
    "\n",
    "ns1 = x_std_set1 * coefs_dust_set1"
   ]
  },
  {
   "cell_type": "code",
   "execution_count": 7,
   "metadata": {},
   "outputs": [],
   "source": [
    "trained_model_nd_set1 = model_formula.fit(x_nd_set1, y_nd_set1)\n",
    "\n",
    "\n",
    "coefs_nodust_set1 = pd.DataFrame(trained_model_nd_set1.coef_, x_nd_set1.columns)\n",
    "coefs_nodust_set1.columns = ['Coefficients']\n",
    "\n",
    "\n",
    "x_nd_std_set1 = x_nd_set1.std()\n",
    "x_nd_std_set1 = pd.DataFrame(x_nd_std_set1)\n",
    "x_nd_std_set1.columns = ['Coefficients']\n",
    "\n",
    "ns1_nd = x_nd_std_set1 * coefs_nodust_set1 "
   ]
  },
  {
   "cell_type": "code",
   "execution_count": 8,
   "metadata": {},
   "outputs": [
    {
     "data": {
      "image/png": "[encoded data removed]",
      "text/plain": [
       "<Figure size 648x504 with 1 Axes>"
      ]
     },
     "metadata": {
      "needs_background": "light"
     },
     "output_type": "display_data"
    }
   ],
   "source": [
    "fig = plt.figure(figsize=figsize)\n",
    "ax = fig.add_subplot(111)\n",
    "ax.barh(ns1.index, ns1['Coefficients'])#, height=0.9)\n",
    "ax.set_title('Dust Model')\n",
    "plt.axvline(x=0, color='.5')\n",
    "plt.subplots_adjust(left=.3)"
   ]
  },
  {
   "cell_type": "code",
   "execution_count": 9,
   "metadata": {},
   "outputs": [
    {
     "data": {
      "image/png": "[encoded data removed]",
      "text/plain": [
       "<Figure size 648x504 with 1 Axes>"
      ]
     },
     "metadata": {
      "needs_background": "light"
     },
     "output_type": "display_data"
    }
   ],
   "source": [
    "fig = plt.figure(figsize=figsize)\n",
    "ax = fig.add_subplot(111)\n",
    "ax.barh(ns1.index, ns1['Coefficients'])#, height=0.9)\n",
    "ax.set_title('Dust Model')\n",
    "plt.axvline(x=0, color='.5')\n",
    "plt.subplots_adjust(left=.3)"
   ]
  },
  {
   "cell_type": "code",
   "execution_count": 10,
   "metadata": {},
   "outputs": [
    {
     "data": {
      "text/plain": [
       "<matplotlib.axes._subplots.AxesSubplot at 0x25bc6820308>"
      ]
     },
     "execution_count": 10,
     "metadata": {},
     "output_type": "execute_result"
    },
    {
     "data": {
      "image/png": "[encoded data removed]",
      "text/plain": [
       "<Figure size 432x288 with 1 Axes>"
      ]
     },
     "metadata": {
      "needs_background": "light"
     },
     "output_type": "display_data"
    }
   ],
   "source": [
    "ns1.sort_values(by=['Coefficients'], ascending=False)\n",
    "ns1_abs = abs(ns1).sort_values(by='Coefficients',ascending=False)\n",
    "ns1_abs.plot(kind='bar')"
   ]
  },
  {
   "cell_type": "code",
   "execution_count": 11,
   "metadata": {},
   "outputs": [
    {
     "data": {
      "text/plain": [
       "<matplotlib.axes._subplots.AxesSubplot at 0x25bc6983788>"
      ]
     },
     "execution_count": 11,
     "metadata": {},
     "output_type": "execute_result"
    },
    {
     "data": {
      "image/png": "[encoded data removed]",
      "text/plain": [
       "<Figure size 432x288 with 1 Axes>"
      ]
     },
     "metadata": {
      "needs_background": "light"
     },
     "output_type": "display_data"
    }
   ],
   "source": [
    "ns1_nd.sort_values(by=['Coefficients'], ascending=False)\n",
    "ns1_abs_nd = abs(ns1_nd).sort_values(by='Coefficients',ascending=False)\n",
    "ns1_abs_nd.plot(kind='bar')"
   ]
  },
  {
   "cell_type": "code",
   "execution_count": 49,
   "metadata": {},
   "outputs": [
    {
     "name": "stdout",
     "output_type": "stream",
     "text": [
      "                  Coefficients\n",
      "pm1_pm25             -7.569165\n",
      "pm25_pm10            -5.416803\n",
      "pm1_0_atm_avg        -0.813605\n",
      "pm2_5_atm_avg        -0.057899\n",
      "p_0_5_um_avg         -0.037708\n",
      "p_0_3_um_avg          0.007454\n",
      "current_humidity      0.019257\n",
      "p_1_0_um_avg          0.037782\n",
      "p_2_5_um_avg          0.138795\n",
      "current_temp_f        0.181702\n",
      "pm10_0_atm_avg        0.844249\n",
      "p_10_0_um_avg         0.886380\n",
      "p_5_0_um_avg          1.905318\n",
      "pm1_pm10             14.180154\n",
      "                  Coefficients\n",
      "pm1_pm25             59.646091\n",
      "pm25_pm10            10.822720\n",
      "p_10_0_um_avg         7.594833\n",
      "p_2_5_um_avg          1.035103\n",
      "p_5_0_um_avg          0.912243\n",
      "pm2_5_atm_avg         0.548271\n",
      "pm1_0_atm_avg         0.418712\n",
      "p_1_0_um_avg          0.268545\n",
      "p_0_5_um_avg          0.071107\n",
      "current_temp_f        0.038442\n",
      "p_0_3_um_avg          0.008684\n",
      "current_humidity     -0.019743\n",
      "pm10_0_atm_avg       -5.653701\n",
      "pm1_pm10            -57.825531\n"
     ]
    }
   ],
   "source": [
    "print(coefs_dust_set1.sort_values(by='Coefficients',ascending=True))\n",
    "print(coefs_nodust_set1.sort_values(by='Coefficients',ascending=False))"
   ]
  },
  {
   "cell_type": "code",
   "execution_count": 13,
   "metadata": {},
   "outputs": [
    {
     "name": "stdout",
     "output_type": "stream",
     "text": [
      "                            OLS Regression Results                            \n",
      "==============================================================================\n",
      "Dep. Variable:              tceq_pm25   R-squared:                       0.864\n",
      "Model:                            OLS   Adj. R-squared:                  0.862\n",
      "Method:                 Least Squares   F-statistic:                     386.8\n",
      "Date:                Mon, 26 Apr 2021   Prob (F-statistic):               0.00\n",
      "Time:                        15:39:42   Log-Likelihood:                -2383.6\n",
      "No. Observations:                 864   AIC:                             4797.\n",
      "Df Residuals:                     849   BIC:                             4869.\n",
      "Df Model:                          14                                         \n",
      "Covariance Type:            nonrobust                                         \n",
      "====================================================================================\n",
      "                       coef    std err          t      P>|t|      [0.025      0.975]\n",
      "------------------------------------------------------------------------------------\n",
      "const              -10.6781      2.727     -3.916      0.000     -16.030      -5.326\n",
      "current_temp_f       0.1817      0.024      7.510      0.000       0.134       0.229\n",
      "current_humidity     0.0193      0.016      1.191      0.234      -0.012       0.051\n",
      "p_0_3_um_avg         0.0075      0.011      0.675      0.500      -0.014       0.029\n",
      "p_0_5_um_avg        -0.0377      0.041     -0.920      0.358      -0.118       0.043\n",
      "p_1_0_um_avg         0.0378      0.039      0.970      0.332      -0.039       0.114\n",
      "p_2_5_um_avg         0.1388      0.290      0.478      0.633      -0.431       0.708\n",
      "p_5_0_um_avg         1.9053      0.619      3.076      0.002       0.690       3.121\n",
      "p_10_0_um_avg        0.8864      1.030      0.861      0.390      -1.135       2.908\n",
      "pm2_5_atm_avg       -0.0579      0.289     -0.200      0.841      -0.625       0.509\n",
      "pm1_0_atm_avg       -0.8136      0.249     -3.265      0.001      -1.303      -0.325\n",
      "pm10_0_atm_avg       0.8442      0.417      2.023      0.043       0.025       1.663\n",
      "pm1_pm25            -7.5692      1.073     -7.055      0.000      -9.675      -5.463\n",
      "pm25_pm10           -5.4168      2.134     -2.538      0.011      -9.606      -1.228\n",
      "pm1_pm10            14.1802      2.231      6.355      0.000       9.801      18.559\n",
      "==============================================================================\n",
      "Omnibus:                      211.057   Durbin-Watson:                   1.096\n",
      "Prob(Omnibus):                  0.000   Jarque-Bera (JB):             1222.095\n",
      "Skew:                           0.977   Prob(JB):                    4.22e-266\n",
      "Kurtosis:                       8.489   Cond. No.                     3.78e+04\n",
      "==============================================================================\n",
      "\n",
      "Warnings:\n",
      "[1] Standard Errors assume that the covariance matrix of the errors is correctly specified.\n",
      "[2] The condition number is large, 3.78e+04. This might indicate that there are\n",
      "strong multicollinearity or other numerical problems.\n"
     ]
    }
   ],
   "source": [
    "import pandas as pd\n",
    "import numpy as np\n",
    "from sklearn import datasets, linear_model\n",
    "from sklearn.linear_model import LinearRegression\n",
    "import statsmodels.api as sm\n",
    "from scipy import stats\n",
    "\n",
    "X = x_set1\n",
    "y = y_set1\n",
    "\n",
    "X2 = sm.add_constant(X)\n",
    "est = sm.OLS(y, X2)\n",
    "est2 = est.fit()\n",
    "print(est2.summary())"
   ]
  },
  {
   "cell_type": "code",
   "execution_count": 46,
   "metadata": {},
   "outputs": [
    {
     "name": "stdout",
     "output_type": "stream",
     "text": [
      "                            OLS Regression Results                            \n",
      "==============================================================================\n",
      "Dep. Variable:              tceq_pm25   R-squared:                       0.520\n",
      "Model:                            OLS   Adj. R-squared:                  0.517\n",
      "Method:                 Least Squares   F-statistic:                     141.7\n",
      "Date:                Mon, 26 Apr 2021   Prob (F-statistic):          3.49e-279\n",
      "Time:                        15:41:44   Log-Likelihood:                -4415.8\n",
      "No. Observations:                1843   AIC:                             8862.\n",
      "Df Residuals:                    1828   BIC:                             8944.\n",
      "Df Model:                          14                                         \n",
      "Covariance Type:            nonrobust                                         \n",
      "====================================================================================\n",
      "                       coef    std err          t      P>|t|      [0.025      0.975]\n",
      "------------------------------------------------------------------------------------\n",
      "const              -20.7984     48.157     -0.432      0.666    -115.246      73.649\n",
      "current_temp_f       0.0384      0.009      4.151      0.000       0.020       0.057\n",
      "current_humidity    -0.0197      0.006     -3.130      0.002      -0.032      -0.007\n",
      "p_0_3_um_avg         0.0087      0.006      1.525      0.127      -0.002       0.020\n",
      "p_0_5_um_avg         0.0711      0.022      3.228      0.001       0.028       0.114\n",
      "p_1_0_um_avg         0.2685      0.039      6.867      0.000       0.192       0.345\n",
      "p_2_5_um_avg         1.0351      0.361      2.871      0.004       0.328       1.742\n",
      "p_5_0_um_avg         0.9122      0.607      1.503      0.133      -0.278       2.103\n",
      "p_10_0_um_avg        7.5948      0.949      8.003      0.000       5.734       9.456\n",
      "pm2_5_atm_avg        0.5483      0.740      0.741      0.459      -0.903       2.000\n",
      "pm1_0_atm_avg        0.4187      0.642      0.652      0.514      -0.840       1.678\n",
      "pm10_0_atm_avg      -5.6537      0.706     -8.009      0.000      -7.038      -4.269\n",
      "pm1_pm25            59.6461     64.157      0.930      0.353     -66.183     185.475\n",
      "pm25_pm10           10.8227     52.041      0.208      0.835     -91.243     112.889\n",
      "pm1_pm10           -57.8255     69.461     -0.832      0.405    -194.056      78.405\n",
      "==============================================================================\n",
      "Omnibus:                      290.586   Durbin-Watson:                   1.599\n",
      "Prob(Omnibus):                  0.000   Jarque-Bera (JB):             1188.842\n",
      "Skew:                           0.711   Prob(JB):                    7.02e-259\n",
      "Kurtosis:                       6.668   Cond. No.                     3.40e+06\n",
      "==============================================================================\n",
      "\n",
      "Warnings:\n",
      "[1] Standard Errors assume that the covariance matrix of the errors is correctly specified.\n",
      "[2] The condition number is large, 3.4e+06. This might indicate that there are\n",
      "strong multicollinearity or other numerical problems.\n"
     ]
    }
   ],
   "source": [
    "import pandas as pd\n",
    "import numpy as np\n",
    "from sklearn import datasets, linear_model\n",
    "from sklearn.linear_model import LinearRegression\n",
    "import statsmodels.api as sm\n",
    "from scipy import stats\n",
    "\n",
    "X = x_nd_set1\n",
    "y = y_nd_set1\n",
    "\n",
    "X2 = sm.add_constant(X)\n",
    "est = sm.OLS(y, X2)\n",
    "est2 = est.fit()\n",
    "print(est2.summary())"
   ]
  },
  {
   "cell_type": "code",
   "execution_count": 14,
   "metadata": {},
   "outputs": [
    {
     "name": "stdout",
     "output_type": "stream",
     "text": [
      "    Coefficients  Standard Errors  t values  Probabilities\n",
      "0       -10.6781            2.727    -3.916          0.000\n",
      "1         0.1817            0.024     7.510          0.000\n",
      "2         0.0193            0.016     1.191          0.234\n",
      "3         0.0075            0.011     0.675          0.500\n",
      "4        -0.0377            0.041    -0.920          0.358\n",
      "5         0.0378            0.039     0.970          0.332\n",
      "6         0.1388            0.290     0.478          0.633\n",
      "7         1.9053            0.619     3.076          0.002\n",
      "8         0.8864            1.030     0.861          0.390\n",
      "9        -0.0579            0.289    -0.200          0.841\n",
      "10       -0.8136            0.249    -3.265          0.001\n",
      "11        0.8442            0.417     2.023          0.043\n",
      "12       -7.5692            1.073    -7.055          0.000\n",
      "13       -5.4168            2.134    -2.538          0.011\n",
      "14       14.1802            2.231     6.355          0.000\n"
     ]
    }
   ],
   "source": [
    "X = x_set1\n",
    "y = y_set1\n",
    "\n",
    "\n",
    "lm = LinearRegression()\n",
    "lm.fit(X,y)\n",
    "params = np.append(lm.intercept_,lm.coef_)\n",
    "predictions = lm.predict(X)\n",
    "\n",
    "# newX = pd.DataFrame({\"Constant\":np.ones(len(X))}).join(pd.DataFrame(X))\n",
    "# MSE = (sum((y-predictions)**2))/(len(newX)-len(newX.columns))\n",
    "\n",
    "# Note if you don't want to use a DataFrame replace the two lines above with\n",
    "newX = np.append(np.ones((len(X),1)), X, axis=1)\n",
    "MSE = (sum((y-predictions)**2))/(len(newX)-len(newX[0]))\n",
    "\n",
    "var_b = MSE*(np.linalg.inv(np.dot(newX.T,newX)).diagonal())\n",
    "sd_b = np.sqrt(var_b)\n",
    "ts_b = params/ sd_b\n",
    "\n",
    "p_values =[2*(1-stats.t.cdf(np.abs(i),(len(newX)-len(newX[0])))) for i in ts_b]\n",
    "\n",
    "sd_b = np.round(sd_b,3)\n",
    "ts_b = np.round(ts_b,3)\n",
    "p_values = np.round(p_values,3)\n",
    "params = np.round(params,4)\n",
    "\n",
    "myDF3 = pd.DataFrame()\n",
    "myDF3[\"Coefficients\"],myDF3[\"Standard Errors\"],myDF3[\"t values\"],myDF3[\"Probabilities\"] = [params,sd_b,ts_b,p_values]\n",
    "print(myDF3)"
   ]
  },
  {
   "cell_type": "code",
   "execution_count": 47,
   "metadata": {},
   "outputs": [
    {
     "name": "stdout",
     "output_type": "stream",
     "text": [
      "    Coefficients  Standard Errors  t values  Probabilities\n",
      "0       -20.7984           48.157    -0.432          0.666\n",
      "1         0.0384            0.009     4.151          0.000\n",
      "2        -0.0197            0.006    -3.130          0.002\n",
      "3         0.0087            0.006     1.525          0.127\n",
      "4         0.0711            0.022     3.228          0.001\n",
      "5         0.2685            0.039     6.867          0.000\n",
      "6         1.0351            0.361     2.871          0.004\n",
      "7         0.9122            0.607     1.503          0.133\n",
      "8         7.5948            0.949     8.003          0.000\n",
      "9         0.5483            0.740     0.741          0.459\n",
      "10        0.4187            0.642     0.652          0.514\n",
      "11       -5.6537            0.706    -8.009          0.000\n",
      "12       59.6461           64.157     0.930          0.353\n",
      "13       10.8227           52.041     0.208          0.835\n",
      "14      -57.8255           69.461    -0.832          0.405\n"
     ]
    }
   ],
   "source": [
    "X_nd = x_nd_set1\n",
    "y_nd = y_nd_set1\n",
    "\n",
    "\n",
    "lm = LinearRegression()\n",
    "lm.fit(X_nd,y_nd)\n",
    "params = np.append(lm.intercept_,lm.coef_)\n",
    "predictions = lm.predict(X_nd)\n",
    "\n",
    "# newX = pd.DataFrame({\"Constant\":np.ones(len(X))}).join(pd.DataFrame(X))\n",
    "# MSE = (sum((y-predictions)**2))/(len(newX)-len(newX.columns))\n",
    "\n",
    "# Note if you don't want to use a DataFrame replace the two lines above with\n",
    "newX = np.append(np.ones((len(X_nd),1)), X_nd, axis=1)\n",
    "MSE = (sum((y-predictions)**2))/(len(newX)-len(newX[0]))\n",
    "\n",
    "var_b = MSE*(np.linalg.inv(np.dot(newX.T,newX)).diagonal())\n",
    "sd_b = np.sqrt(var_b)\n",
    "ts_b = params/ sd_b\n",
    "\n",
    "p_values =[2*(1-stats.t.cdf(np.abs(i),(len(newX)-len(newX[0])))) for i in ts_b]\n",
    "\n",
    "sd_b = np.round(sd_b,3)\n",
    "ts_b = np.round(ts_b,3)\n",
    "p_values = np.round(p_values,3)\n",
    "params = np.round(params,4)\n",
    "\n",
    "myDF3 = pd.DataFrame()\n",
    "myDF3[\"Coefficients\"],myDF3[\"Standard Errors\"],myDF3[\"t values\"],myDF3[\"Probabilities\"] = [params,sd_b,ts_b,p_values]\n",
    "print(myDF3)"
   ]
  },
  {
   "cell_type": "markdown",
   "metadata": {},
   "source": [
    "# Make Dust and No Dust Formula from Coefficients - Finished"
   ]
  },
  {
   "cell_type": "markdown",
   "metadata": {},
   "source": [
    "# View Formula on dataset 2, 3, and 4"
   ]
  }
 ],
 "metadata": {
  "kernelspec": {
   "display_name": "Python 3",
   "language": "python",
   "name": "python3"
  },
  "language_info": {
   "codemirror_mode": {
    "name": "ipython",
    "version": 3
   },
   "file_extension": ".py",
   "mimetype": "text/x-python",
   "name": "python",
   "nbconvert_exporter": "python",
   "pygments_lexer": "ipython3",
   "version": "3.7.6"
  }
 },
 "nbformat": 4,
 "nbformat_minor": 4
}
